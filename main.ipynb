{
 "cells": [
  {
   "cell_type": "code",
   "execution_count": null,
   "id": "9340f346",
   "metadata": {},
   "outputs": [],
   "source": [
    "import numpy as np\n",
    "import pandas as pd\n",
    "import matplotlib.pyplot as plt\n",
    "import os\n",
    "import cv2\n",
    "from sklearn.utils import shuffle\n",
    "import tensorflow as tf\n",
    "import keras\n",
    "from keras import layers\n",
    "from keras.applications import EfficientNetB0"
   ]
  },
  {
   "cell_type": "code",
   "execution_count": 34,
   "id": "9c4bd32d",
   "metadata": {},
   "outputs": [],
   "source": [
    "#nothing just rename files in order, why? idk\n",
    "folder_path = 'E:\\cycle_vs_bike\\Dataset\\scraped_cycle'\n",
    "all_files = os.listdir(folder_path)\n",
    "\n",
    "file_name = [i for i in all_files]\n",
    "\n",
    "cnt = 1000\n",
    "for i in file_name:\n",
    "    name_parts = i.split('.')[0].split('_')\n",
    "    name_parts[1] = str(cnt)\n",
    "    new_name = '_'.join(name_parts) + '.' + i.split('.')[-1] \n",
    "    \n",
    "    old_path = os.path.join(folder_path, i)\n",
    "    new_path = os.path.join(folder_path, new_name)\n",
    "        \n",
    "    os.rename(old_path, new_path)\n",
    "    cnt += 1\n",
    "    "
   ]
  },
  {
   "cell_type": "code",
   "execution_count": 35,
   "id": "b50ea601",
   "metadata": {},
   "outputs": [],
   "source": [
    "#transform images\n",
    "cycle_list = []\n",
    "dir_1 = 'E:\\cycle_vs_bike\\Dataset\\scraped_cycle'\n",
    "for i in os.listdir(dir_1):\n",
    "    image = cv2.imread(dir_1+'/'+i) #take imgs one by one\n",
    "    rgb_img = cv2.cvtColor(image,cv2.COLOR_BGR2RGB) #bgr -> rgb\n",
    "    image = cv2.resize(rgb_img, (244,244)) #this dim is req. for effecientnet\n",
    "    cycle_list.append(image)"
   ]
  },
  {
   "cell_type": "code",
   "execution_count": 36,
   "id": "b4600fba",
   "metadata": {},
   "outputs": [],
   "source": [
    "bike_list = []\n",
    "dir_2 = 'E:\\cycle_vs_bike\\Dataset\\scraped_bike'\n",
    "for i in os.listdir(dir_2):\n",
    "    image = cv2.imread(dir_2+'/'+i) #take imgs one by one\n",
    "    rgb_img = cv2.cvtColor(image,cv2.COLOR_BGR2RGB) #bgr -> rgb to plot in plt\n",
    "    image = cv2.resize(rgb_img, (244,244)) #this dim is req. for effecientnet\n",
    "    bike_list.append(image)"
   ]
  },
  {
   "cell_type": "code",
   "execution_count": null,
   "id": "ca23657d",
   "metadata": {},
   "outputs": [],
   "source": [
    "# 0 -> cycle, 1 -> bike \n",
    "cyc_label = np.zeros(len(cycle_list))\n",
    "bike_label = np.ones(len(bike_list))\n",
    "\n",
    "#preparing data\n",
    "x_data = list(cycle_list) + list(bike_list)\n",
    "y_data = np.concatenate([cyc_label, bike_label], axis=0)\n",
    "\n",
    "x_train, y_train = shuffle(x_data, y_data, random_state=9)"
   ]
  },
  {
   "cell_type": "code",
   "execution_count": null,
   "id": "2ef21a01",
   "metadata": {},
   "outputs": [],
   "source": []
  }
 ],
 "metadata": {
  "kernelspec": {
   "display_name": ".venv",
   "language": "python",
   "name": "python3"
  },
  "language_info": {
   "codemirror_mode": {
    "name": "ipython",
    "version": 3
   },
   "file_extension": ".py",
   "mimetype": "text/x-python",
   "name": "python",
   "nbconvert_exporter": "python",
   "pygments_lexer": "ipython3",
   "version": "3.9.0"
  }
 },
 "nbformat": 4,
 "nbformat_minor": 5
}
